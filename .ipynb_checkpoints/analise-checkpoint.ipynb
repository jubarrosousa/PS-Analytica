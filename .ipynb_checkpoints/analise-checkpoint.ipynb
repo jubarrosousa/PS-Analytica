{
 "cells": [
  {
   "cell_type": "markdown",
   "metadata": {},
   "source": [
    "Tarefa de Análise do Processo Seletivo UFRJ Analytica"
   ]
  },
  {
   "cell_type": "markdown",
   "metadata": {},
   "source": [
    "Por: Juliana Barros"
   ]
  },
  {
   "cell_type": "markdown",
   "metadata": {},
   "source": [
    "A permanência dos alunos e a qualidade dos estudos das escolas da Região Metropolitana"
   ]
  },
  {
   "cell_type": "markdown",
   "metadata": {},
   "source": [
    "Para a análise, eu escolhi estudar quais aspectos influenciam na qualidade dos estudos e permanência dos alunos nas escolas da região metropolitana do Rio de Janeiro. Assim, montei algumas hipóteses e busquei relacioná-las com as taxas de abandono e a defasagem escolar."
   ]
  },
  {
   "cell_type": "markdown",
   "metadata": {},
   "source": [
    "A escolha da região foi devido ao fato dela conter quase 75% da população do estado do Rio, segundo o censo do IBGE de 2010 [1]. A Região Metropolitana é formada por 19 municípios: \n",
    "Belford Roxo, Duque de Caxias, Guapimirim, Itaboraí, Itaguaí, Japeri, Magé, Maricá, Mesquita, Nilópolis, Niterói, Nova Iguaçu, Paracambi, Queimados, Rio de Janeiro, São Gonçalo, São João de Meriti, Seropédica e Tanguá.\n",
    "Maparj2018RMRJ-Mapa_Região_Metropolitana_do_Rio_de_Janeiro_Brasil-2018.png"
   ]
  },
  {
   "cell_type": "markdown",
   "metadata": {},
   "source": [
    "No site do IBGE, encontrei os códigos dos municípios, e coloquei em uma lista em ordem alfabética [2]."
   ]
  },
  {
   "cell_type": "code",
   "execution_count": 3,
   "metadata": {},
   "outputs": [],
   "source": [
    "import pandas as pd"
   ]
  },
  {
   "cell_type": "code",
   "execution_count": 7,
   "metadata": {},
   "outputs": [],
   "source": [
    "id_municipios = ['3300456', '3301702', '3301850', '3301900', '3302007', '3302270', '3302502', '3302700', '3302858',\n",
    "                 '3303203', '3303302', '3303500', '3303609', '3304144', '3304557', '3304904', '3305109', '3305554', '3305752']\n"
   ]
  },
  {
   "cell_type": "markdown",
   "metadata": {},
   "source": [
    "Exportei do BigQuery do Google Cloud, as colunas de interesse de cada escola, e fiz um dataframe para cada município."
   ]
  },
  {
   "cell_type": "code",
   "execution_count": null,
   "metadata": {},
   "outputs": [],
   "source": [
    "#Belford Roxo - 3300456\n",
    "\n",
    "# Duque de Caxias - 3301702\n",
    "# Guapimirim - 3301850\n",
    "# Itaboraí - 3301900\n",
    "# Itaguaí - 3302007\n",
    "# Japeri - 3302270\n",
    "# Magé - 3302502\n",
    "# Maricá - 3302700\n",
    "# Mesquita - 3302858\n",
    "# Nilópolis - 3303203\n",
    "# Niterói - 3303302\n",
    "# Nova Iguaçu- 3303500\n",
    "# Paracambi - 3303609\n",
    "# Queimados - 3304144\n",
    "# Rio de Janeiro - 3304557\n",
    "# São Gonçalo - 3304904\n",
    "# São João de Meriti - 3305109\n",
    "# Seropédica - 3305554\n",
    "# Tanguá - 3305752"
   ]
  },
  {
   "cell_type": "markdown",
   "metadata": {},
   "source": [
    "Para ter uma visão geral do problema, calculei a mediana dos indíces para cada nível escolar: ensino básico, fundamental e médio.  "
   ]
  },
  {
   "cell_type": "markdown",
   "metadata": {},
   "source": [
    "Primeiro analisei o banco de dados com os índices educacionais feito pelo INEP, que têm informações sobre a qualidade de ensino de cada escola, assim como dados sociais e econômicos dos alunos e professores. Os dados são por escola, então separei "
   ]
  },
  {
   "cell_type": "markdown",
   "metadata": {},
   "source": [
    "[1] Municípios em dados\n",
    "[2] https://www.ibge.gov.br/explica/codigos-dos-municipios.php#RJ\n",
    "[3]http://www.gestaouniversitaria.com.br/artigos/conheca-os-indicadores-que-detalham-as-tendencias-da-educacao-basica-brasileira"
   ]
  }
 ],
 "metadata": {
  "kernelspec": {
   "display_name": "Python 3",
   "language": "python",
   "name": "python3"
  },
  "language_info": {
   "codemirror_mode": {
    "name": "ipython",
    "version": 3
   },
   "file_extension": ".py",
   "mimetype": "text/x-python",
   "name": "python",
   "nbconvert_exporter": "python",
   "pygments_lexer": "ipython3",
   "version": "3.8.8"
  },
  "vscode": {
   "interpreter": {
    "hash": "f36ea67ba9917dfb74c6ebd0fe5302c584352e3b8db744b63fcc380444479d9c"
   }
  }
 },
 "nbformat": 4,
 "nbformat_minor": 2
}
